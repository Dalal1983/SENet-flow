{
 "cells": [
  {
   "cell_type": "code",
   "execution_count": 14,
   "metadata": {},
   "outputs": [],
   "source": [
    "import tensorflow as tf\n",
    "from seblock import squeeze_and_excitation_block\n",
    "from utils import conv2d_layer, max_pool, dense_layer\n",
    "\n",
    "train, test = tf.keras.datasets.mnist.load_data()"
   ]
  },
  {
   "cell_type": "code",
   "execution_count": 15,
   "metadata": {},
   "outputs": [],
   "source": [
    "X_train, Y_train = train\n",
    "X_test, Y_test = test\n",
    "\n",
    "with tf.Session() as sess:\n",
    "    Y_train = tf.one_hot(Y_train, depth=10).eval()\n",
    "    Y_test = tf.one_hot(Y_test, depth=10).eval()\n",
    "    \n",
    "    X_train = tf.reshape(X_train, [-1, 28, 28, 1])\n",
    "    X_test = tf.reshape(X_test, [-1, 28, 28, 1])"
   ]
  },
  {
   "cell_type": "markdown",
   "metadata": {},
   "source": [
    "## The Model"
   ]
  },
  {
   "cell_type": "code",
   "execution_count": null,
   "metadata": {},
   "outputs": [],
   "source": [
    "def model(X_train, Y_train, X_test, Y_test, lr=0.001, batch_size=32, epochs=5):\n",
    "    m, n_H, n_W, n_C_in = X_train.shape\n",
    "    n_classes = Y_train.shape[1]\n",
    "    \n",
    "    X = X_train\n",
    "    X = conv2d_layer(X, n_filters=8, size=[5, 5], padding='same', name='conv2d-layer-1')\n",
    "    X = max_pool(X, size=[2, 2], strides=[1, 2, 2, 1], name='max-pool-layer-1')\n",
    "    \n",
    "    X = squeeze_and_excitation_block(X, )"
   ]
  }
 ],
 "metadata": {
  "kernelspec": {
   "display_name": "Python 3",
   "language": "python",
   "name": "python3"
  },
  "language_info": {
   "codemirror_mode": {
    "name": "ipython",
    "version": 3
   },
   "file_extension": ".py",
   "mimetype": "text/x-python",
   "name": "python",
   "nbconvert_exporter": "python",
   "pygments_lexer": "ipython3",
   "version": "3.6.8"
  }
 },
 "nbformat": 4,
 "nbformat_minor": 2
}
