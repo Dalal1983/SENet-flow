{
 "cells": [
  {
   "cell_type": "code",
   "execution_count": 1,
   "metadata": {},
   "outputs": [],
   "source": [
    "import tensorflow as tf\n",
    "from seblock import squeeze_and_excitation_block\n",
    "from utils import conv2d_layer, max_pool, dense_layer\n",
    "\n",
    "train, test = tf.keras.datasets.mnist.load_data()"
   ]
  },
  {
   "cell_type": "code",
   "execution_count": 2,
   "metadata": {},
   "outputs": [],
   "source": [
    "X_train, Y_train = train\n",
    "X_test, Y_test = test\n",
    "\n",
    "with tf.Session() as sess:\n",
    "    Y_train = tf.one_hot(Y_train, depth=10).eval()\n",
    "    Y_test = tf.one_hot(Y_test, depth=10).eval()\n",
    "    \n",
    "    X_train = tf.reshape(X_train, [-1, 28, 28, 1]).eval()\n",
    "    X_test = tf.reshape(X_test, [-1, 28, 28, 1]).eval()"
   ]
  },
  {
   "cell_type": "markdown",
   "metadata": {},
   "source": [
    "## The Model"
   ]
  },
  {
   "cell_type": "code",
   "execution_count": 3,
   "metadata": {},
   "outputs": [],
   "source": [
    "def model(X_train, Y_train, X_test, Y_test, lr=0.001, batch_size=32, num_epochs=5):\n",
    "    tf.reset_default_graph()\n",
    "    \n",
    "    m, n_H, n_W, n_C_in = X_train.shape\n",
    "    n_classes = Y_train.shape[1]\n",
    "    num_minibatches_per_epoch = m // batch_size\n",
    "\n",
    "    \n",
    "    ### PLACEHOLDERS\n",
    "    with tf.name_scope('placeholders') as nscope:\n",
    "        X = tf.placeholder(tf.float32, shape=[None, n_H, n_W, n_C_in], name='X_placeholder')\n",
    "        Y = tf.placeholder(tf.float32, shape=[None, n_classes], name='Y_placeholder')\n",
    "    \n",
    "    ### FORWARD PROPAGATION\n",
    "    with tf.name_scope('forward-prop') as nscope:\n",
    "        Z1 = conv2d_layer(X, n_filters=8, size=[5, 5], padding='SAME', name='conv2d-layer-1')\n",
    "        P1 = max_pool(Z1, size=[2, 2], strides=[1, 2, 2, 1], name='max-pool-layer-1')\n",
    "\n",
    "        S2 = squeeze_and_excitation_block(P1, out_dim=8, reduction_ratio=16, layer_name='SE-block-2')\n",
    "\n",
    "        Z3 = conv2d_layer(S2, n_filters=16, size=[9, 9], padding='SAME', name='conv2d-layer-3')\n",
    "        P3 = max_pool(Z3, size=[2, 2], strides=[1, 2, 2, 1], name='max-pool-layer-3')\n",
    "\n",
    "        S4 = squeeze_and_excitation_block(P3, out_dim=16, reduction_ratio=16, layer_name='SE-block-4')\n",
    "        \n",
    "        F5 = tf.layers.flatten(S4, name='flatten-5')\n",
    "        \n",
    "        A6 = dense_layer(F5, units=100, activation=tf.nn.relu, name='dense-layer-6')\n",
    "        Z = dense_layer(A6, units=10, activation=None, name='dense-layer-7')\n",
    "    \n",
    "    \n",
    "    ### COMPUTE THE COST\n",
    "    with tf.name_scope('cost') as nscope:\n",
    "        cost = tf.reduce_mean(\n",
    "            tf.losses.softmax_cross_entropy(logits=Z, onehot_labels=Y)\n",
    "        )\n",
    "    \n",
    "    ### OPTIMIZER\n",
    "    with tf.name_scope('optimizer') as nscope:\n",
    "        train = tf.train.AdamOptimizer(learning_rate=lr).minimize(cost)\n",
    "    \n",
    "    ### INPUT SEQUENCE\n",
    "    with tf.name_scope('train-dataset') as nscope:\n",
    "        train_dataset = tf.data.Dataset.from_tensor_slices((X_train, Y_train))\n",
    "        train_dataset = train_dataset.repeat(num_epochs).shuffle(m*num_epochs).batch(batch_size)\n",
    "\n",
    "        trainset_iterator = train_dataset.make_one_shot_iterator()\n",
    "        next_minibatch = trainset_iterator.get_next()\n",
    "        \n",
    "    # ACCURACY\n",
    "    with tf.name_scope('accuracy') as nscope:\n",
    "        # Calculate the correct predictions\n",
    "        predict_op = tf.argmax(Z, 1)\n",
    "        correct_prediction = tf.equal(predict_op, tf.argmax(Y, 1))\n",
    "\n",
    "        # Calculate accuracy on the test set\n",
    "        accuracy = tf.reduce_mean(tf.cast(correct_prediction, 'float'))\n",
    "        \n",
    "    ### INITIALIZER\n",
    "    init = tf.global_variables_initializer()\n",
    "    \n",
    "    ### RUNNING THE COMPUTATION GRAPH WITH `tf.Session`\n",
    "    with tf.Session() as sess:\n",
    "        sess.run(init)\n",
    "        \n",
    "        k = 0\n",
    "        epoch = 0\n",
    "        epoch_cost = 0.\n",
    "        epoch_acc = 0.\n",
    "            \n",
    "        while True:\n",
    "            try:\n",
    "                X_mini, Y_mini = sess.run(next_minibatch)\n",
    "                (_, tmp_cost, tmp_acc) = sess.run(\n",
    "                    (train, cost, accuracy),\n",
    "                    feed_dict={\n",
    "                        X: X_mini, Y: Y_mini\n",
    "                    }\n",
    "                )\n",
    "                    \n",
    "                epoch_cost += tmp_cost/num_minibatches_per_epoch\n",
    "                epoch_acc += tmp_acc/num_minibatches_per_epoch\n",
    "                k+=1\n",
    "                \n",
    "            except tf.errors.OutOfRangeError:\n",
    "                break\n",
    "                    \n",
    "                    \n",
    "            if k % num_minibatches_per_epoch == 0:\n",
    "                print(f'EPOCH {epoch}     |||     COST: {epoch_cost}     |||     ACCURACY: {epoch_acc}')                \n",
    "                epoch += 1\n",
    "                epoch_cost = 0.\n",
    "                epoch_acc = 0.\n",
    "        \n",
    "        train_acc = accuracy.eval(feed_dict={X: X_train, Y: Y_train})\n",
    "        test_acc = accuracy.eval(feed_dict={X: X_test, Y: Y_test})\n",
    "        print()\n",
    "        print(f'TRAIN ACCURACY: {train_acc}')\n",
    "        print(f'TEST ACCURACY: {test_acc}')\n",
    "        \n",
    "    return"
   ]
  },
  {
   "cell_type": "code",
   "execution_count": 4,
   "metadata": {},
   "outputs": [
    {
     "name": "stdout",
     "output_type": "stream",
     "text": [
      "EPOCH 0     |||     COST: 0.2623580956148599     |||     ACCURACY: 0.9400666666666864\n",
      "EPOCH 1     |||     COST: 0.08667279607782852     |||     ACCURACY: 0.9753166666666966\n",
      "EPOCH 2     |||     COST: 0.07273989441257726     |||     ACCURACY: 0.9793666666667015\n",
      "EPOCH 3     |||     COST: 0.057125596673074784     |||     ACCURACY: 0.9833333333333708\n",
      "EPOCH 4     |||     COST: 0.049462226644020696     |||     ACCURACY: 0.9856833333333724\n",
      "\n",
      "TRAIN ACCURACY: 0.9886999726295471\n",
      "TEST ACCURACY: 0.9843999743461609\n"
     ]
    }
   ],
   "source": [
    "model(X_train, Y_train, X_test, Y_test, lr=0.001, batch_size=32, num_epochs=5)"
   ]
  },
  {
   "cell_type": "code",
   "execution_count": 5,
   "metadata": {},
   "outputs": [],
   "source": [
    "writer = tf.summary.FileWriter('./boards/1')\n",
    "writer.add_graph(tf.get_default_graph())\n",
    "writer.flush()"
   ]
  },
  {
   "cell_type": "code",
   "execution_count": 6,
   "metadata": {},
   "outputs": [
    {
     "name": "stdout",
     "output_type": "stream",
     "text": [
      "TensorBoard 1.12.2 at http://Victors-MacBook-Pro.local:6006 (Press CTRL+C to quit)\n",
      "\u001b[33mW0210 12:32:55.687920 Reloader tf_logging.py:120] Found more than one graph event per run, or there was a metagraph containing a graph_def, as well as one or more graph events.  Overwriting the graph with the newest event.\n",
      "\u001b[0mW0210 12:32:55.687920 123145356095488 tf_logging.py:120] Found more than one graph event per run, or there was a metagraph containing a graph_def, as well as one or more graph events.  Overwriting the graph with the newest event.\n",
      "^C\n"
     ]
    }
   ],
   "source": [
    "!tensorboard --logdir ./boards/1"
   ]
  },
  {
   "cell_type": "code",
   "execution_count": null,
   "metadata": {},
   "outputs": [],
   "source": []
  },
  {
   "cell_type": "code",
   "execution_count": null,
   "metadata": {},
   "outputs": [],
   "source": []
  }
 ],
 "metadata": {
  "kernelspec": {
   "display_name": "Python 3",
   "language": "python",
   "name": "python3"
  },
  "language_info": {
   "codemirror_mode": {
    "name": "ipython",
    "version": 3
   },
   "file_extension": ".py",
   "mimetype": "text/x-python",
   "name": "python",
   "nbconvert_exporter": "python",
   "pygments_lexer": "ipython3",
   "version": "3.6.8"
  }
 },
 "nbformat": 4,
 "nbformat_minor": 2
}
